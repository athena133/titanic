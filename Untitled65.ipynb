{
 "cells": [
  {
   "cell_type": "code",
   "execution_count": 1,
   "id": "d5007e75-cc1d-4cf9-8f3e-2a57a29f4dec",
   "metadata": {},
   "outputs": [
    {
     "ename": "ModuleNotFoundError",
     "evalue": "No module named 'psychopy'",
     "output_type": "error",
     "traceback": [
      "\u001b[1;31m---------------------------------------------------------------------------\u001b[0m",
      "\u001b[1;31mModuleNotFoundError\u001b[0m                       Traceback (most recent call last)",
      "Cell \u001b[1;32mIn[1], line 1\u001b[0m\n\u001b[1;32m----> 1\u001b[0m \u001b[38;5;28;01mfrom\u001b[39;00m \u001b[38;5;21;01mpsychopy\u001b[39;00m \u001b[38;5;28;01mimport\u001b[39;00m visual, event, core\n\u001b[0;32m      2\u001b[0m \u001b[38;5;28;01mimport\u001b[39;00m \u001b[38;5;21;01mrandom\u001b[39;00m\n\u001b[0;32m      4\u001b[0m \u001b[38;5;66;03m# Setup window\u001b[39;00m\n",
      "\u001b[1;31mModuleNotFoundError\u001b[0m: No module named 'psychopy'"
     ]
    }
   ],
   "source": [
    "from psychopy import visual, event, core\n",
    "import random\n",
    "\n",
    "# Setup window\n",
    "win = visual.Window([800, 600], units=\"deg\")\n",
    "\n",
    "# Define sentences (some make sense, some don't)\n",
    "sentences = [\"The dog chased the cat\", \"The moon sang a song\", \"Birds fly in the sky\", \"Apples can talk\"]\n",
    "\n",
    "# Define colored squares with textures\n",
    "squares = [visual.Rect(win, width=1, height=1, fillColor='red', pos=[-5, 0]), \n",
    "           visual.Rect(win, width=1, height=1, fillColor='blue', pos=[5, 0])]\n",
    "\n",
    "# Define function to display and move squares\n",
    "def move_squares():\n",
    "    for frame in range(150):  # Move squares for ~2.5 seconds\n",
    "        for square in squares:\n",
    "            square.pos += (random.uniform(-0.05, 0.05), random.uniform(-0.05, 0.05))  # Random motion\n",
    "            square.draw()\n",
    "        win.flip()\n",
    "\n",
    "# Define recall task (placeholder for recall mechanism)\n",
    "def recall_task():\n",
    "    # Placeholder code to simulate recall\n",
    "    response = event.waitKeys(keyList=['1', '2'])\n",
    "    print(f\"Participant recalled: {response}\")\n",
    "\n",
    "# Run experiment\n",
    "fixation = visual.TextStim(win, text=\"+\", pos=(0, 0))\n",
    "fixation.draw()\n",
    "win.flip()\n",
    "core.wait(1)\n",
    "\n",
    "# Phase 1: First Moving Squares\n",
    "move_squares()\n",
    "\n",
    "# Phase 2: Sentence Comprehension\n",
    "sentence = random.choice(sentences)\n",
    "sentence_stim = visual.TextStim(win, text=sentence)\n",
    "sentence_stim.draw()\n",
    "win.flip()\n",
    "response = event.waitKeys(keyList=['y', 'n'])  # Y for makes sense, N for doesn't\n",
    "print(f\"Sentence Response: {response}\")\n",
    "\n",
    "# Phase 3: Second Moving Squares\n",
    "move_squares()\n",
    "\n",
    "# Phase 4: Recall Task\n",
    "recall_task()\n",
    "\n",
    "# Close window\n",
    "win.close()\n"
   ]
  },
  {
   "cell_type": "code",
   "execution_count": null,
   "id": "a97fdd76-e995-4ccd-8389-6604d831607d",
   "metadata": {},
   "outputs": [],
   "source": []
  }
 ],
 "metadata": {
  "kernelspec": {
   "display_name": "Python 3 (ipykernel)",
   "language": "python",
   "name": "python3"
  },
  "language_info": {
   "codemirror_mode": {
    "name": "ipython",
    "version": 3
   },
   "file_extension": ".py",
   "mimetype": "text/x-python",
   "name": "python",
   "nbconvert_exporter": "python",
   "pygments_lexer": "ipython3",
   "version": "3.11.7"
  }
 },
 "nbformat": 4,
 "nbformat_minor": 5
}
